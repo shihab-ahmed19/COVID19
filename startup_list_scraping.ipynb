{
  "nbformat": 4,
  "nbformat_minor": 0,
  "metadata": {
    "colab": {
      "provenance": [],
      "authorship_tag": "ABX9TyMhdsSYQwx+0sgLZ0e7h0bF",
      "include_colab_link": true
    },
    "kernelspec": {
      "name": "python3",
      "display_name": "Python 3"
    },
    "language_info": {
      "name": "python"
    }
  },
  "cells": [
    {
      "cell_type": "markdown",
      "metadata": {
        "id": "view-in-github",
        "colab_type": "text"
      },
      "source": [
        "<a href=\"https://colab.research.google.com/github/shihab-ahmed19/COVID19/blob/main/startup_list_scraping.ipynb\" target=\"_parent\"><img src=\"https://colab.research.google.com/assets/colab-badge.svg\" alt=\"Open In Colab\"/></a>"
      ]
    },
    {
      "cell_type": "code",
      "source": [
        "from google.colab import drive\n",
        "drive.mount('/content/drive')"
      ],
      "metadata": {
        "colab": {
          "base_uri": "https://localhost:8080/"
        },
        "id": "9tqZ5zkx2IeR",
        "outputId": "573e645f-36fd-45c8-ad66-38020a5af450"
      },
      "execution_count": 34,
      "outputs": [
        {
          "output_type": "stream",
          "name": "stdout",
          "text": [
            "Mounted at /content/drive\n"
          ]
        }
      ]
    },
    {
      "cell_type": "code",
      "execution_count": 35,
      "metadata": {
        "id": "ESPeJNSVv4Sy"
      },
      "outputs": [],
      "source": [
        "import requests\n",
        "from bs4 import BeautifulSoup\n",
        "import re\n",
        "import pandas as pd"
      ]
    },
    {
      "cell_type": "code",
      "source": [
        "# Make request and parse page\n",
        "page = requests.get(\"https://www.cbinsights.com/research/biggest-startup-failures/\")\n",
        "soup = BeautifulSoup(page.content, \"html.parser\")"
      ],
      "metadata": {
        "id": "k2JVG5iewpE1"
      },
      "execution_count": 36,
      "outputs": []
    },
    {
      "cell_type": "code",
      "source": [
        "# Find all h3 elements\n",
        "h3s = soup.find_all(\"h3\")"
      ],
      "metadata": {
        "id": "71krJQ0oxR6K"
      },
      "execution_count": 37,
      "outputs": []
    },
    {
      "cell_type": "code",
      "source": [
        "# Create empty lists\n",
        "headings = []\n",
        "vc_names = []\n",
        "funding_amounts = []"
      ],
      "metadata": {
        "id": "CHncEGwBxUW0"
      },
      "execution_count": 38,
      "outputs": []
    },
    {
      "cell_type": "code",
      "source": [
        "# Loop through h3 elements\n",
        "for h3 in h3s:\n",
        "\n",
        "  # Get h3 text\n",
        "  headings.append(h3.text)\n",
        "\n",
        "  # Get 2nd paragraph\n",
        "  para2 = h3.find_next_sibling(\"p\").find_next_sibling(\"p\")\n",
        "  para2_text = re.sub(r\"Select VC investors:\\s*\", \"\", para2.text)\n",
        "  vc_names.append(para2_text)\n",
        "\n",
        "  # Get 3rd paragraph\n",
        "  para3 = para2.find_next_sibling(\"p\")\n",
        "  para3_text = re.sub(r\"Total disclosed funding:\\s*\", \"\", para3.text)\n",
        "  funding_amounts.append(para3_text)"
      ],
      "metadata": {
        "id": "nQ-jUEmkxYgf"
      },
      "execution_count": 39,
      "outputs": []
    },
    {
      "cell_type": "code",
      "source": [
        "# Create dataframe\n",
        "df = pd.DataFrame()\n",
        "df['Heading'] = headings\n",
        "df['vcNames'] = vc_names\n",
        "df['FundingAmounts'] = funding_amounts"
      ],
      "metadata": {
        "id": "7SKfuDZHzFoM"
      },
      "execution_count": 40,
      "outputs": []
    },
    {
      "cell_type": "code",
      "source": [
        "df.to_csv('/content/drive/My Drive/startup_list1.csv', index=False)"
      ],
      "metadata": {
        "id": "ME_JKqi3zG6r"
      },
      "execution_count": 42,
      "outputs": []
    },
    {
      "cell_type": "code",
      "source": [],
      "metadata": {
        "id": "HCCWvN8E0wEJ"
      },
      "execution_count": null,
      "outputs": []
    }
  ]
}